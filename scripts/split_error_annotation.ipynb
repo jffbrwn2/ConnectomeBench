{
 "cells": [
  {
   "cell_type": "code",
   "execution_count": 1,
   "metadata": {},
   "outputs": [],
   "source": [
    "import pandas as pd\n",
    "from PIL import Image\n",
    "\n",
    "import matplotlib.pyplot as plt\n",
    "import numpy as np\n",
    "from sklearn.metrics import confusion_matrix, ConfusionMatrixDisplay\n",
    "from collections import Counter\n",
    "import os\n",
    "import json"
   ]
  },
  {
   "cell_type": "code",
   "execution_count": 2,
   "metadata": {},
   "outputs": [],
   "source": [
    "species = \"fly\"\n",
    "filename = \"merge_comparison_results_20250514_160709.json\"\n",
    "with open(f\"./output/{species}_merge_2048nm/{filename}\", \"r\") as f:\n",
    "    results = json.load(f)\n"
   ]
  },
  {
   "cell_type": "code",
   "execution_count": 12,
   "metadata": {},
   "outputs": [
    {
     "data": {
      "text/plain": [
       "{'operation_id': 596706,\n",
       " 'base_neuron_id': '720575940628966719',\n",
       " 'correct_merged_pair': ['720575940618598188', '720575940628966719'],\n",
       " 'options_presented_ids': ['720575940618598188'],\n",
       " 'expected_choice_ids': ['720575940618598188'],\n",
       " 'num_options_presented': 1,\n",
       " 'prompt_options': [{'id': '720575940618598188',\n",
       "   'paths': {'default': {},\n",
       "    'zoomed': {'front': 'output/fly_merge_2048nm/merge_720575940628966719_326370_175273_158265/option_720575940618598188_with_base_zoomed_front.png',\n",
       "     'side': 'output/fly_merge_2048nm/merge_720575940628966719_326370_175273_158265/option_720575940618598188_with_base_zoomed_side.png',\n",
       "     'top': 'output/fly_merge_2048nm/merge_720575940628966719_326370_175273_158265/option_720575940618598188_with_base_zoomed_top.png'},\n",
       "    'em': None}}],\n",
       " 'views': ['front', 'side', 'top'],\n",
       " 'use_zoomed_images': True,\n",
       " 'image_paths': {'base': {'default': {}, 'zoomed': {}, 'em': None},\n",
       "  'options': {'720575940618598188': {'default': {},\n",
       "    'zoomed': {'front': 'output/fly_merge_2048nm/merge_720575940628966719_326370_175273_158265/option_720575940618598188_with_base_zoomed_front.png',\n",
       "     'side': 'output/fly_merge_2048nm/merge_720575940628966719_326370_175273_158265/option_720575940618598188_with_base_zoomed_side.png',\n",
       "     'top': 'output/fly_merge_2048nm/merge_720575940628966719_326370_175273_158265/option_720575940618598188_with_base_zoomed_top.png'},\n",
       "    'em': None}}},\n",
       " 'option_index_to_id': {'1': '720575940618598188'},\n",
       " 'index': 0,\n",
       " 'model_chosen_id': 'none',\n",
       " 'model_raw_answer': '<analysis>\\nUpon examining the three views (front, side, top) of the given 3D volume showing neuronal segments, the key factor to determine whether a merge is correct is the continuity and alignment between the blue and orange segments.\\n\\n1. **Front View:**\\n    - The segments overlap and interlock in a complex pattern.\\n    - The blue segment appears to have an irregular boundary where the orange segment fits in parts, suggesting potential connectivity.\\n\\n2. **Side View:**\\n    - The boundary alignment is less clear.\\n    - There are patches of overlapping regions and some areas where the orange segment protrudes significantly, which could indicate a misalignment or a merge error at this view.\\n\\n3. **Top View:**\\n    - The connection between the segments seems more plausible with less discontinuity than the side view.\\n    - The orange segment covers some regions of the blue segment with moderate continuity in form.\\n\\nOverall, while there are areas where the segments appear to fit together, there are also significant regions of apparent discontinuity and protrusion, especially noticeable in the side view. This suggests that there is an inconsistency that could indicate a split that is not properly resolved by merging these specific segments.\\n\\nConsidering the combined information from all views, the segments do not conclusively display a seamless merge in all perspectives. These discontinuities suggest that the segments might not represent a valid merge candidate.\\n</analysis>\\n\\n<answer>-1</answer>',\n",
       " 'model_analysis': 'Upon examining the three views (front, side, top) of the given 3D volume showing neuronal segments, the key factor to determine whether a merge is correct is the continuity and alignment between the blue and orange segments.\\n\\n1. **Front View:**\\n    - The segments overlap and interlock in a complex pattern.\\n    - The blue segment appears to have an irregular boundary where the orange segment fits in parts, suggesting potential connectivity.\\n\\n2. **Side View:**\\n    - The boundary alignment is less clear.\\n    - There are patches of overlapping regions and some areas where the orange segment protrudes significantly, which could indicate a misalignment or a merge error at this view.\\n\\n3. **Top View:**\\n    - The connection between the segments seems more plausible with less discontinuity than the side view.\\n    - The orange segment covers some regions of the blue segment with moderate continuity in form.\\n\\nOverall, while there are areas where the segments appear to fit together, there are also significant regions of apparent discontinuity and protrusion, especially noticeable in the side view. This suggests that there is an inconsistency that could indicate a split that is not properly resolved by merging these specific segments.\\n\\nConsidering the combined information from all views, the segments do not conclusively display a seamless merge in all perspectives. These discontinuities suggest that the segments might not represent a valid merge candidate.',\n",
       " 'model': 'gpt-4o',\n",
       " 'zoom_margin': 2048}"
      ]
     },
     "execution_count": 12,
     "metadata": {},
     "output_type": "execute_result"
    }
   ],
   "source": [
    "results[0]"
   ]
  },
  {
   "cell_type": "code",
   "execution_count": 662,
   "metadata": {},
   "outputs": [
    {
     "ename": "IndexError",
     "evalue": "list index out of range",
     "output_type": "error",
     "traceback": [
      "\u001b[31m---------------------------------------------------------------------------\u001b[39m",
      "\u001b[31mIndexError\u001b[39m                                Traceback (most recent call last)",
      "\u001b[36mCell\u001b[39m\u001b[36m \u001b[39m\u001b[32mIn[662]\u001b[39m\u001b[32m, line 5\u001b[39m\n\u001b[32m      1\u001b[39m neuron_idx =\u001b[32m298\u001b[39m\n\u001b[32m      2\u001b[39m \u001b[38;5;66;03m# proofread_root_id = results.iloc[neuron_idx]['proofread root id']\u001b[39;00m\n\u001b[32m      3\u001b[39m \u001b[38;5;66;03m# current_root_id = results.iloc[neuron_idx]['current root id']\u001b[39;00m\n\u001b[32m----> \u001b[39m\u001b[32m5\u001b[39m \u001b[38;5;28;01mfor\u001b[39;00m i \u001b[38;5;129;01min\u001b[39;00m \u001b[38;5;28mrange\u001b[39m(\u001b[38;5;28mlen\u001b[39m(\u001b[43mresults\u001b[49m\u001b[43m[\u001b[49m\u001b[43mneuron_idx\u001b[49m\u001b[43m]\u001b[49m[\u001b[33m'\u001b[39m\u001b[33mprompt_options\u001b[39m\u001b[33m'\u001b[39m])):\n\u001b[32m      6\u001b[39m     results[neuron_idx][\u001b[33m'\u001b[39m\u001b[33mprompt_options\u001b[39m\u001b[33m'\u001b[39m][i][\u001b[33m'\u001b[39m\u001b[33mpaths\u001b[39m\u001b[33m'\u001b[39m][\u001b[33m'\u001b[39m\u001b[33mzoomed\u001b[39m\u001b[33m'\u001b[39m][\u001b[33m'\u001b[39m\u001b[33mfront\u001b[39m\u001b[33m'\u001b[39m]\n\u001b[32m      8\u001b[39m     front_path = results[neuron_idx][\u001b[33m'\u001b[39m\u001b[33mprompt_options\u001b[39m\u001b[33m'\u001b[39m][i][\u001b[33m'\u001b[39m\u001b[33mpaths\u001b[39m\u001b[33m'\u001b[39m][\u001b[33m'\u001b[39m\u001b[33mzoomed\u001b[39m\u001b[33m'\u001b[39m][\u001b[33m'\u001b[39m\u001b[33mfront\u001b[39m\u001b[33m'\u001b[39m]\n",
      "\u001b[31mIndexError\u001b[39m: list index out of range"
     ]
    }
   ],
   "source": [
    "neuron_idx =298\n",
    "# proofread_root_id = results.iloc[neuron_idx]['proofread root id']\n",
    "# current_root_id = results.iloc[neuron_idx]['current root id']\n",
    "\n",
    "for i in range(len(results[neuron_idx]['prompt_options'])):\n",
    "    results[neuron_idx]['prompt_options'][i]['paths']['zoomed']['front']\n",
    "\n",
    "    front_path = results[neuron_idx]['prompt_options'][i]['paths']['zoomed']['front']\n",
    "    side_path = results[neuron_idx]['prompt_options'][i]['paths']['zoomed']['side']\n",
    "    top_path = results[neuron_idx]['prompt_options'][i]['paths']['zoomed']['top']\n",
    "\n",
    "    front_img = np.asarray(Image.open(front_path))\n",
    "    side_img = np.asarray(Image.open(side_path))\n",
    "    top_img = np.asarray(Image.open(top_path))\n",
    "    print(results[neuron_idx]['prompt_options'][i]['id'])\n",
    "    fig, ax = plt.subplots(1, 3, figsize=(15, 5))\n",
    "    ax[0].imshow(front_img)\n",
    "    ax[1].imshow(side_img)\n",
    "    ax[2].imshow(top_img)\n",
    "    plt.show()\n",
    "    # print(f\"{proofread_root_id}_{current_root_id}\")\n",
    "    # print(f\"BBox size: {results.iloc[neuron_idx][\"xmax\"] - results.iloc[neuron_idx][\"xmin\"]} x {results.iloc[neuron_idx][\"ymax\"] - results.iloc[neuron_idx][\"ymin\"]} x {results.iloc[neuron_idx][\"zmax\"] - results.iloc[neuron_idx][\"zmin\"]} nm\")\n",
    "    # print(f\"{results.loc[neuron_idx, \"human answer 1\"]}\")\n",
    "    # print(f\"{results.loc[neuron_idx, \"confidence 1\"]}\")\n"
   ]
  },
  {
   "cell_type": "code",
   "execution_count": 661,
   "metadata": {},
   "outputs": [],
   "source": [
    "results[neuron_idx]['human_choice_1'] = ['720575940615282178']\n",
    "results[neuron_idx]['difficulty_1'] = 1"
   ]
  },
  {
   "cell_type": "code",
   "execution_count": 520,
   "metadata": {},
   "outputs": [
    {
     "data": {
      "text/plain": [
       "{'operation_id': 1633085,\n",
       " 'base_neuron_id': '720575940619506567',\n",
       " 'correct_merged_pair': ['720575940619506567', '720575940616720089'],\n",
       " 'options_presented_ids': ['720575940616720089', '720575940630931011'],\n",
       " 'expected_choice_ids': ['720575940616720089'],\n",
       " 'num_options_presented': 2,\n",
       " 'prompt_options': [{'id': '720575940616720089',\n",
       "   'paths': {'default': {},\n",
       "    'zoomed': {'front': 'output/fly_merge_2048nm/merge_720575940619506567_564816_209517_183813/option_720575940616720089_with_base_zoomed_front.png',\n",
       "     'side': 'output/fly_merge_2048nm/merge_720575940619506567_564816_209517_183813/option_720575940616720089_with_base_zoomed_side.png',\n",
       "     'top': 'output/fly_merge_2048nm/merge_720575940619506567_564816_209517_183813/option_720575940616720089_with_base_zoomed_top.png'},\n",
       "    'em': None}},\n",
       "  {'id': '720575940630931011',\n",
       "   'paths': {'default': {},\n",
       "    'zoomed': {'front': 'output/fly_merge_2048nm/merge_720575940619506567_564816_209517_183813/option_720575940630931011_with_base_zoomed_front.png',\n",
       "     'side': 'output/fly_merge_2048nm/merge_720575940619506567_564816_209517_183813/option_720575940630931011_with_base_zoomed_side.png',\n",
       "     'top': 'output/fly_merge_2048nm/merge_720575940619506567_564816_209517_183813/option_720575940630931011_with_base_zoomed_top.png'},\n",
       "    'em': None}}],\n",
       " 'views': ['front', 'side', 'top'],\n",
       " 'use_zoomed_images': True,\n",
       " 'image_paths': {'base': {'default': {}, 'zoomed': {}, 'em': None},\n",
       "  'options': {'720575940616720089': {'default': {},\n",
       "    'zoomed': {'front': 'output/fly_merge_2048nm/merge_720575940619506567_564816_209517_183813/option_720575940616720089_with_base_zoomed_front.png',\n",
       "     'side': 'output/fly_merge_2048nm/merge_720575940619506567_564816_209517_183813/option_720575940616720089_with_base_zoomed_side.png',\n",
       "     'top': 'output/fly_merge_2048nm/merge_720575940619506567_564816_209517_183813/option_720575940616720089_with_base_zoomed_top.png'},\n",
       "    'em': None},\n",
       "   '720575940630931011': {'default': {},\n",
       "    'zoomed': {'front': 'output/fly_merge_2048nm/merge_720575940619506567_564816_209517_183813/option_720575940630931011_with_base_zoomed_front.png',\n",
       "     'side': 'output/fly_merge_2048nm/merge_720575940619506567_564816_209517_183813/option_720575940630931011_with_base_zoomed_side.png',\n",
       "     'top': 'output/fly_merge_2048nm/merge_720575940619506567_564816_209517_183813/option_720575940630931011_with_base_zoomed_top.png'},\n",
       "    'em': None}}},\n",
       " 'option_index_to_id': {'1': '720575940616720089', '2': '720575940630931011'},\n",
       " 'index': 0,\n",
       " 'model_chosen_id': '720575940616720089',\n",
       " 'model_raw_answer': '<analysis>\\n\\nUpon analyzing the given images:\\n\\n**Option 1:**\\n\\n- **Front View:** The blue and orange segments appear to be connected smoothly, with no noticeable discontinuities or breaks.\\n- **Side View:** There is a consistent flow between the two segments, suggesting a possible direct connection.\\n- **Top View:** The segments exhibit a contiguous and natural progression.\\n\\n**Option 2:**\\n\\n- **Front View:** The segments overlap in a more tangled and disconnected manner, with visible separations.\\n- **Side View:** There is a substantial gap between the segments, indicating a discontinuity.\\n- **Top View:** The segments appear misaligned with each other, reinforcing the separation.\\n\\n**Conclusion:**\\n\\nOption 1 displays a more natural and continuous connection between the segments, while Option 2 shows clear separations and misalignments that suggest a lack of direct merging. Therefore, Option 1 is the best representation of a correct merge.\\n\\n</analysis>\\n\\n<answer>1</answer>',\n",
       " 'model_analysis': 'Upon analyzing the given images:\\n\\n**Option 1:**\\n\\n- **Front View:** The blue and orange segments appear to be connected smoothly, with no noticeable discontinuities or breaks.\\n- **Side View:** There is a consistent flow between the two segments, suggesting a possible direct connection.\\n- **Top View:** The segments exhibit a contiguous and natural progression.\\n\\n**Option 2:**\\n\\n- **Front View:** The segments overlap in a more tangled and disconnected manner, with visible separations.\\n- **Side View:** There is a substantial gap between the segments, indicating a discontinuity.\\n- **Top View:** The segments appear misaligned with each other, reinforcing the separation.\\n\\n**Conclusion:**\\n\\nOption 1 displays a more natural and continuous connection between the segments, while Option 2 shows clear separations and misalignments that suggest a lack of direct merging. Therefore, Option 1 is the best representation of a correct merge.',\n",
       " 'model': 'gpt-4o',\n",
       " 'zoom_margin': 2048,\n",
       " 'human_choice_1': ['720575940616720089'],\n",
       " 'difficulty_1': 2}"
      ]
     },
     "execution_count": 520,
     "metadata": {},
     "output_type": "execute_result"
    }
   ],
   "source": [
    "results[neuron_idx]"
   ]
  },
  {
   "cell_type": "code",
   "execution_count": 665,
   "metadata": {},
   "outputs": [],
   "source": [
    "# filename_human = \"merge_comparison_results_human_annotation.json\"\n",
    "# with open(f\"./output/{species}_merge_2048nm/{filename_human}\", \"w\") as f:\n",
    "#     json.dump(results, f)"
   ]
  }
 ],
 "metadata": {
  "kernelspec": {
   "display_name": ".venv",
   "language": "python",
   "name": "python3"
  },
  "language_info": {
   "codemirror_mode": {
    "name": "ipython",
    "version": 3
   },
   "file_extension": ".py",
   "mimetype": "text/x-python",
   "name": "python",
   "nbconvert_exporter": "python",
   "pygments_lexer": "ipython3",
   "version": "3.12.7"
  }
 },
 "nbformat": 4,
 "nbformat_minor": 2
}
