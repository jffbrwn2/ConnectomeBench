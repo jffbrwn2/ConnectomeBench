{
 "cells": [
  {
   "cell_type": "code",
   "execution_count": 3,
   "metadata": {},
   "outputs": [
    {
     "name": "stderr",
     "output_type": "stream",
     "text": [
      "/Users/jbrown/Documents/boyden_lab/ai-proofreading/connectomebench/.venv/lib/python3.12/site-packages/tqdm/auto.py:21: TqdmWarning: IProgress not found. Please update jupyter and ipywidgets. See https://ipywidgets.readthedocs.io/en/stable/user_install.html\n",
      "  from .autonotebook import tqdm as notebook_tqdm\n"
     ]
    }
   ],
   "source": [
    "from connectome_visualizer import ConnectomeVisualizer"
   ]
  },
  {
   "cell_type": "code",
   "execution_count": 4,
   "metadata": {},
   "outputs": [
    {
     "name": "stdout",
     "output_type": "stream",
     "text": [
      "Successfully connected to data sources.\n"
     ]
    },
    {
     "name": "stderr",
     "output_type": "stream",
     "text": [
      "Downloading Meshes: 100%|██████████| 1/1 [00:19<00:00, 19.78s/it]"
     ]
    },
    {
     "name": "stdout",
     "output_type": "stream",
     "text": [
      "Warning: deduplication not currently supported for this layer's variable layered draco meshes\n",
      "Loaded neuron 864691134965949727\n"
     ]
    },
    {
     "name": "stderr",
     "output_type": "stream",
     "text": [
      "\n"
     ]
    },
    {
     "name": "stdout",
     "output_type": "stream",
     "text": [
      "Saved front view to ./output/3d_neuron_mesh_front.png (size: 512x512, scale: 1.0)\n",
      "Saved side view to ./output/3d_neuron_mesh_side.png (size: 512x512, scale: 1.0)\n",
      "Saved top view to ./output/3d_neuron_mesh_top.png (size: 512x512, scale: 1.0)\n"
     ]
    },
    {
     "data": {
      "text/plain": [
       "{'front': './output/3d_neuron_mesh_front.png',\n",
       " 'top': './output/3d_neuron_mesh_top.png',\n",
       " 'side': './output/3d_neuron_mesh_side.png'}"
      ]
     },
     "execution_count": 4,
     "metadata": {},
     "output_type": "execute_result"
    }
   ],
   "source": [
    "# Initialize visualizer\n",
    "visualizer = ConnectomeVisualizer(species=\"mouse\")\n",
    "\n",
    "# Load and visualize neurons\n",
    "visualizer.load_neurons([864691134965949727])\n",
    "visualizer.save_3d_views(base_filename=\"3d_neuron_mesh\")"
   ]
  },
  {
   "cell_type": "code",
   "execution_count": null,
   "metadata": {},
   "outputs": [],
   "source": []
  }
 ],
 "metadata": {
  "kernelspec": {
   "display_name": ".venv",
   "language": "python",
   "name": "python3"
  },
  "language_info": {
   "codemirror_mode": {
    "name": "ipython",
    "version": 3
   },
   "file_extension": ".py",
   "mimetype": "text/x-python",
   "name": "python",
   "nbconvert_exporter": "python",
   "pygments_lexer": "ipython3",
   "version": "3.12.7"
  }
 },
 "nbformat": 4,
 "nbformat_minor": 2
}
